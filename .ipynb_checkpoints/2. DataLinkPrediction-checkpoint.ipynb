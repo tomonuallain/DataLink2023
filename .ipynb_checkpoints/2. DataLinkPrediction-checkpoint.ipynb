{
 "cells": [
  {
   "cell_type": "markdown",
   "metadata": {},
   "source": [
    "# Prediction"
   ]
  },
  {
   "cell_type": "markdown",
   "metadata": {},
   "source": [
    "Now that we have removed the worst features and standardised the dataset, we can look at making a predictive classification model.\n",
    "\n",
    "We will try many classification models and see which works best on our dataset.\n",
    "\n",
    "Here are the models and a brief description of each:\n",
    "- **Logistic Regression**: Uses a logistic function to predict the probability of an input belonging to a certain class, given its features. \n",
    "\n",
    "- **Linear Discriminant Analysis**: Uses linear combinations of features to project input data onto a lower-dimensional space where the classes can be more easily separated. \n",
    "\n",
    "- **K-Nearest Neighbors**: This model assigns a class label to an input based on the majority class of its k nearest neighbors in the training set. \n",
    "\n",
    "- **Decision Tree**: This classifier creates a tree-like model of decisions based on features of the input data, where each node represents a test on a specific feature and each leaf node represents a class label. \n",
    "\n",
    "- **Random Forest**: This model is an ensemble of decision trees that are trained on random subsets of the training data and features. It combines the predictions of these trees to produce a final prediction that is more robust and accurate than a single decision tree.\n",
    "\n",
    "- **Support Vector Machine (SVC)**: This classifier constructs a hyperplane or set of hyperplanes in a high-dimensional space to separate the input data into different classes. \n",
    "\n",
    "- **Gaussian Naive Bayes**: This classifier is a variant of Naive Bayes that assumes a Gaussian distribution for the features, and it uses Bayes' theorem to predict the class label of an input based on its features.\n",
    "\n",
    "- **eXtreme Gradient Boosting Machine (XGBM)**: This classifier is a variant of gradient boosting that uses a gradient descent algorithm to optimize a differentiable loss function. \n",
    "\n",
    "- **Light Gradient Boosting Machine (LGBM)**: This classifier is a variant of gradient boosting that uses a tree-based learning algorithm that is more efficient and scalable than traditional gradient boosting. \n",
    "\n",
    "\n",
    "I will use *K-fold cross-validation* to evaluate the performance of the models. This involves splitting the training data into k equally sized subsets, training and evaluating each model k times using each subset as the validation set once, and averaging the results to estimate the model's generalisation performance. This helps to prevent overfitting and select the best hyperparameters for the model.\n",
    "\n",
    "Finally, I will use grid search to tune the hyperparameters. After this I will select and train the final predictive algorithm.\n"
   ]
  },
  {
   "cell_type": "markdown",
   "metadata": {},
   "source": [
    "\n"
   ]
  },
  {
   "cell_type": "markdown",
   "metadata": {},
   "source": [
    "*Importing libraries and set-up:*"
   ]
  },
  {
   "cell_type": "code",
   "execution_count": 1,
   "metadata": {
    "scrolled": false
   },
   "outputs": [],
   "source": [
    "import pandas as pd\n",
    "import numpy as np\n",
    "import matplotlib.pyplot as plt\n",
    "from sklearn.model_selection import train_test_split, KFold, cross_val_score, GridSearchCV, StratifiedKFold\n",
    "from sklearn.metrics import accuracy_score, confusion_matrix\n",
    "\n",
    "\n",
    "# algorithms\n",
    "from sklearn.ensemble import RandomForestClassifier\n",
    "from sklearn.linear_model import LogisticRegression, LinearRegression, Ridge, Lasso, ElasticNet\n",
    "from sklearn.neighbors import KNeighborsClassifier\n",
    "from sklearn.tree import DecisionTreeClassifier\n",
    "from sklearn.ensemble import RandomForestClassifier\n",
    "from sklearn.svm import SVC\n",
    "from sklearn.discriminant_analysis import LinearDiscriminantAnalysis\n",
    "from sklearn.naive_bayes import GaussianNB\n",
    "from xgboost import XGBClassifier\n",
    "from lightgbm import LGBMClassifier\n",
    "\n",
    "from skopt.searchcv import BayesSearchCV\n",
    "from skopt.space import Integer, Real, Categorical \n",
    "from skopt.utils import use_named_args\n",
    "from skopt import gp_minimize\n",
    "\n",
    "\n",
    "import warnings\n",
    "\n",
    "from sklearn.exceptions import ConvergenceWarning\n",
    "warnings.simplefilter(action='ignore', category=FutureWarning)\n",
    "warnings.simplefilter(\"ignore\", category=ConvergenceWarning)\n",
    "warnings.simplefilter(\"ignore\", category=UserWarning)\n"
   ]
  },
  {
   "cell_type": "markdown",
   "metadata": {},
   "source": [
    "*import new dataset:*"
   ]
  },
  {
   "cell_type": "code",
   "execution_count": 2,
   "metadata": {},
   "outputs": [
    {
     "data": {
      "text/html": [
       "<div>\n",
       "<style scoped>\n",
       "    .dataframe tbody tr th:only-of-type {\n",
       "        vertical-align: middle;\n",
       "    }\n",
       "\n",
       "    .dataframe tbody tr th {\n",
       "        vertical-align: top;\n",
       "    }\n",
       "\n",
       "    .dataframe thead th {\n",
       "        text-align: right;\n",
       "    }\n",
       "</style>\n",
       "<table border=\"1\" class=\"dataframe\">\n",
       "  <thead>\n",
       "    <tr style=\"text-align: right;\">\n",
       "      <th></th>\n",
       "      <th>checking_status</th>\n",
       "      <th>duration</th>\n",
       "      <th>credit_history</th>\n",
       "      <th>purpose</th>\n",
       "      <th>credit_amount</th>\n",
       "      <th>savings_status</th>\n",
       "      <th>employment</th>\n",
       "      <th>installment_commitment</th>\n",
       "      <th>personal_status</th>\n",
       "      <th>other_parties</th>\n",
       "      <th>residence_since</th>\n",
       "      <th>property_magnitude</th>\n",
       "      <th>age</th>\n",
       "      <th>other_payment_plans</th>\n",
       "      <th>housing</th>\n",
       "      <th>existing_credits</th>\n",
       "      <th>num_dependents</th>\n",
       "      <th>foreign_worker</th>\n",
       "      <th>class</th>\n",
       "    </tr>\n",
       "  </thead>\n",
       "  <tbody>\n",
       "    <tr>\n",
       "      <th>0</th>\n",
       "      <td>1</td>\n",
       "      <td>-1.320416</td>\n",
       "      <td>1</td>\n",
       "      <td>6</td>\n",
       "      <td>-0.851865</td>\n",
       "      <td>4</td>\n",
       "      <td>3</td>\n",
       "      <td>4</td>\n",
       "      <td>3</td>\n",
       "      <td>2</td>\n",
       "      <td>4</td>\n",
       "      <td>3</td>\n",
       "      <td>2.445612</td>\n",
       "      <td>1</td>\n",
       "      <td>1</td>\n",
       "      <td>2</td>\n",
       "      <td>1</td>\n",
       "      <td>1</td>\n",
       "      <td>1</td>\n",
       "    </tr>\n",
       "    <tr>\n",
       "      <th>1</th>\n",
       "      <td>0</td>\n",
       "      <td>2.065544</td>\n",
       "      <td>3</td>\n",
       "      <td>6</td>\n",
       "      <td>1.385029</td>\n",
       "      <td>2</td>\n",
       "      <td>0</td>\n",
       "      <td>2</td>\n",
       "      <td>0</td>\n",
       "      <td>2</td>\n",
       "      <td>2</td>\n",
       "      <td>3</td>\n",
       "      <td>-1.204794</td>\n",
       "      <td>1</td>\n",
       "      <td>1</td>\n",
       "      <td>1</td>\n",
       "      <td>1</td>\n",
       "      <td>1</td>\n",
       "      <td>0</td>\n",
       "    </tr>\n",
       "    <tr>\n",
       "      <th>2</th>\n",
       "      <td>3</td>\n",
       "      <td>-0.756089</td>\n",
       "      <td>1</td>\n",
       "      <td>2</td>\n",
       "      <td>-0.418239</td>\n",
       "      <td>2</td>\n",
       "      <td>1</td>\n",
       "      <td>2</td>\n",
       "      <td>3</td>\n",
       "      <td>2</td>\n",
       "      <td>3</td>\n",
       "      <td>3</td>\n",
       "      <td>1.259230</td>\n",
       "      <td>1</td>\n",
       "      <td>1</td>\n",
       "      <td>1</td>\n",
       "      <td>2</td>\n",
       "      <td>1</td>\n",
       "      <td>1</td>\n",
       "    </tr>\n",
       "    <tr>\n",
       "      <th>3</th>\n",
       "      <td>1</td>\n",
       "      <td>2.065544</td>\n",
       "      <td>3</td>\n",
       "      <td>3</td>\n",
       "      <td>2.235967</td>\n",
       "      <td>2</td>\n",
       "      <td>1</td>\n",
       "      <td>2</td>\n",
       "      <td>3</td>\n",
       "      <td>1</td>\n",
       "      <td>4</td>\n",
       "      <td>1</td>\n",
       "      <td>0.894190</td>\n",
       "      <td>1</td>\n",
       "      <td>0</td>\n",
       "      <td>1</td>\n",
       "      <td>2</td>\n",
       "      <td>1</td>\n",
       "      <td>1</td>\n",
       "    </tr>\n",
       "    <tr>\n",
       "      <th>4</th>\n",
       "      <td>1</td>\n",
       "      <td>0.372564</td>\n",
       "      <td>2</td>\n",
       "      <td>4</td>\n",
       "      <td>0.879365</td>\n",
       "      <td>2</td>\n",
       "      <td>0</td>\n",
       "      <td>3</td>\n",
       "      <td>3</td>\n",
       "      <td>2</td>\n",
       "      <td>4</td>\n",
       "      <td>2</td>\n",
       "      <td>1.624271</td>\n",
       "      <td>1</td>\n",
       "      <td>0</td>\n",
       "      <td>2</td>\n",
       "      <td>2</td>\n",
       "      <td>1</td>\n",
       "      <td>0</td>\n",
       "    </tr>\n",
       "    <tr>\n",
       "      <th>...</th>\n",
       "      <td>...</td>\n",
       "      <td>...</td>\n",
       "      <td>...</td>\n",
       "      <td>...</td>\n",
       "      <td>...</td>\n",
       "      <td>...</td>\n",
       "      <td>...</td>\n",
       "      <td>...</td>\n",
       "      <td>...</td>\n",
       "      <td>...</td>\n",
       "      <td>...</td>\n",
       "      <td>...</td>\n",
       "      <td>...</td>\n",
       "      <td>...</td>\n",
       "      <td>...</td>\n",
       "      <td>...</td>\n",
       "      <td>...</td>\n",
       "      <td>...</td>\n",
       "      <td>...</td>\n",
       "    </tr>\n",
       "    <tr>\n",
       "      <th>793</th>\n",
       "      <td>2</td>\n",
       "      <td>0.372564</td>\n",
       "      <td>3</td>\n",
       "      <td>3</td>\n",
       "      <td>-0.045891</td>\n",
       "      <td>2</td>\n",
       "      <td>3</td>\n",
       "      <td>3</td>\n",
       "      <td>1</td>\n",
       "      <td>2</td>\n",
       "      <td>4</td>\n",
       "      <td>2</td>\n",
       "      <td>1.441751</td>\n",
       "      <td>1</td>\n",
       "      <td>0</td>\n",
       "      <td>1</td>\n",
       "      <td>1</td>\n",
       "      <td>1</td>\n",
       "      <td>1</td>\n",
       "    </tr>\n",
       "    <tr>\n",
       "      <th>794</th>\n",
       "      <td>3</td>\n",
       "      <td>0.372564</td>\n",
       "      <td>3</td>\n",
       "      <td>3</td>\n",
       "      <td>0.033630</td>\n",
       "      <td>1</td>\n",
       "      <td>3</td>\n",
       "      <td>4</td>\n",
       "      <td>3</td>\n",
       "      <td>2</td>\n",
       "      <td>3</td>\n",
       "      <td>2</td>\n",
       "      <td>-0.292193</td>\n",
       "      <td>1</td>\n",
       "      <td>2</td>\n",
       "      <td>1</td>\n",
       "      <td>1</td>\n",
       "      <td>1</td>\n",
       "      <td>1</td>\n",
       "    </tr>\n",
       "    <tr>\n",
       "      <th>795</th>\n",
       "      <td>3</td>\n",
       "      <td>-1.038253</td>\n",
       "      <td>3</td>\n",
       "      <td>3</td>\n",
       "      <td>-0.322345</td>\n",
       "      <td>0</td>\n",
       "      <td>2</td>\n",
       "      <td>2</td>\n",
       "      <td>0</td>\n",
       "      <td>2</td>\n",
       "      <td>4</td>\n",
       "      <td>1</td>\n",
       "      <td>-1.204794</td>\n",
       "      <td>1</td>\n",
       "      <td>2</td>\n",
       "      <td>1</td>\n",
       "      <td>1</td>\n",
       "      <td>1</td>\n",
       "      <td>1</td>\n",
       "    </tr>\n",
       "    <tr>\n",
       "      <th>796</th>\n",
       "      <td>1</td>\n",
       "      <td>-0.191763</td>\n",
       "      <td>3</td>\n",
       "      <td>9</td>\n",
       "      <td>2.114756</td>\n",
       "      <td>4</td>\n",
       "      <td>3</td>\n",
       "      <td>1</td>\n",
       "      <td>3</td>\n",
       "      <td>2</td>\n",
       "      <td>4</td>\n",
       "      <td>1</td>\n",
       "      <td>1.441751</td>\n",
       "      <td>1</td>\n",
       "      <td>0</td>\n",
       "      <td>1</td>\n",
       "      <td>2</td>\n",
       "      <td>1</td>\n",
       "      <td>0</td>\n",
       "    </tr>\n",
       "    <tr>\n",
       "      <th>797</th>\n",
       "      <td>3</td>\n",
       "      <td>-0.756089</td>\n",
       "      <td>1</td>\n",
       "      <td>3</td>\n",
       "      <td>-0.810233</td>\n",
       "      <td>2</td>\n",
       "      <td>2</td>\n",
       "      <td>2</td>\n",
       "      <td>0</td>\n",
       "      <td>2</td>\n",
       "      <td>4</td>\n",
       "      <td>1</td>\n",
       "      <td>-1.204794</td>\n",
       "      <td>1</td>\n",
       "      <td>2</td>\n",
       "      <td>2</td>\n",
       "      <td>1</td>\n",
       "      <td>1</td>\n",
       "      <td>1</td>\n",
       "    </tr>\n",
       "  </tbody>\n",
       "</table>\n",
       "<p>798 rows × 19 columns</p>\n",
       "</div>"
      ],
      "text/plain": [
       "     checking_status  duration  credit_history  purpose  credit_amount  \\\n",
       "0                  1 -1.320416               1        6      -0.851865   \n",
       "1                  0  2.065544               3        6       1.385029   \n",
       "2                  3 -0.756089               1        2      -0.418239   \n",
       "3                  1  2.065544               3        3       2.235967   \n",
       "4                  1  0.372564               2        4       0.879365   \n",
       "..               ...       ...             ...      ...            ...   \n",
       "793                2  0.372564               3        3      -0.045891   \n",
       "794                3  0.372564               3        3       0.033630   \n",
       "795                3 -1.038253               3        3      -0.322345   \n",
       "796                1 -0.191763               3        9       2.114756   \n",
       "797                3 -0.756089               1        3      -0.810233   \n",
       "\n",
       "     savings_status  employment  installment_commitment  personal_status  \\\n",
       "0                 4           3                       4                3   \n",
       "1                 2           0                       2                0   \n",
       "2                 2           1                       2                3   \n",
       "3                 2           1                       2                3   \n",
       "4                 2           0                       3                3   \n",
       "..              ...         ...                     ...              ...   \n",
       "793               2           3                       3                1   \n",
       "794               1           3                       4                3   \n",
       "795               0           2                       2                0   \n",
       "796               4           3                       1                3   \n",
       "797               2           2                       2                0   \n",
       "\n",
       "     other_parties  residence_since  property_magnitude       age  \\\n",
       "0                2                4                   3  2.445612   \n",
       "1                2                2                   3 -1.204794   \n",
       "2                2                3                   3  1.259230   \n",
       "3                1                4                   1  0.894190   \n",
       "4                2                4                   2  1.624271   \n",
       "..             ...              ...                 ...       ...   \n",
       "793              2                4                   2  1.441751   \n",
       "794              2                3                   2 -0.292193   \n",
       "795              2                4                   1 -1.204794   \n",
       "796              2                4                   1  1.441751   \n",
       "797              2                4                   1 -1.204794   \n",
       "\n",
       "     other_payment_plans  housing  existing_credits  num_dependents  \\\n",
       "0                      1        1                 2               1   \n",
       "1                      1        1                 1               1   \n",
       "2                      1        1                 1               2   \n",
       "3                      1        0                 1               2   \n",
       "4                      1        0                 2               2   \n",
       "..                   ...      ...               ...             ...   \n",
       "793                    1        0                 1               1   \n",
       "794                    1        2                 1               1   \n",
       "795                    1        2                 1               1   \n",
       "796                    1        0                 1               2   \n",
       "797                    1        2                 2               1   \n",
       "\n",
       "     foreign_worker  class  \n",
       "0                 1      1  \n",
       "1                 1      0  \n",
       "2                 1      1  \n",
       "3                 1      1  \n",
       "4                 1      0  \n",
       "..              ...    ...  \n",
       "793               1      1  \n",
       "794               1      1  \n",
       "795               1      1  \n",
       "796               1      0  \n",
       "797               1      1  \n",
       "\n",
       "[798 rows x 19 columns]"
      ]
     },
     "execution_count": 2,
     "metadata": {},
     "output_type": "execute_result"
    }
   ],
   "source": [
    "df = pd.read_csv(\"credit_data_processed.csv\")\n",
    "df"
   ]
  },
  {
   "cell_type": "code",
   "execution_count": 3,
   "metadata": {
    "scrolled": false
   },
   "outputs": [],
   "source": [
    "#Creating the X and y variables\n",
    "X = df.drop('class', axis=1) # predictors\n",
    "y = df['class'] # target variable\n",
    "\n",
    "# Spliting X and y into train and test version\n",
    "X_train, X_test, y_train, y_test = train_test_split(X, y, test_size = 0.25, random_state=5)"
   ]
  },
  {
   "cell_type": "code",
   "execution_count": 4,
   "metadata": {
    "scrolled": false
   },
   "outputs": [
    {
     "name": "stdout",
     "output_type": "stream",
     "text": [
      "LGR \t mean score: 0.8770288651355387 \t standard deviation: 0.045754316193721785\n",
      "LDA \t mean score: 0.874473494149935 \t standard deviation: 0.053453593807436035\n",
      "KNN \t mean score: 0.8772269568427303 \t standard deviation: 0.059279125242564124\n",
      "CART \t mean score: 0.7678915691655833 \t standard deviation: 0.041902367676262084\n",
      "RF \t mean score: 0.8989188614441395 \t standard deviation: 0.045211365748672315\n",
      "SVM \t mean score: 0.9161779575328615 \t standard deviation: 0.027034227976716868\n",
      "NB \t mean score: 0.7443032083072528 \t standard deviation: 0.058411518112916054\n",
      "XGBM \t mean score: 0.858937077695925 \t standard deviation: 0.04131272670882016\n",
      "LGBM \t mean score: 0.8612300383584509 \t standard deviation: 0.03898648814970284\n"
     ]
    },
    {
     "data": {
      "image/png": "[encoded data removed]",
      "text/plain": [
       "<Figure size 720x720 with 1 Axes>"
      ]
     },
     "metadata": {
      "needs_background": "light"
     },
     "output_type": "display_data"
    }
   ],
   "source": [
    "# prepare models\n",
    "models = []\n",
    "models.append(('LGR', LogisticRegression()))\n",
    "models.append(('LDA', LinearDiscriminantAnalysis()))\n",
    "models.append(('KNN', KNeighborsClassifier()))\n",
    "models.append(('CART', DecisionTreeClassifier()))\n",
    "models.append(('RF', RandomForestClassifier()))\n",
    "models.append(('SVM', SVC(gamma='auto')))\n",
    "models.append(('NB', GaussianNB()))\n",
    "models.append(('XGBM', XGBClassifier(verbosity = 0)))\n",
    "models.append(('LGBM', LGBMClassifier()))\n",
    "\n",
    "\n",
    "# evaluate each model in turn\n",
    "results = []\n",
    "names = []\n",
    "scoring = 'recall'\n",
    "\n",
    "for name, model in models:\n",
    "        kfold = KFold(n_splits=10, random_state=20, shuffle=False)\n",
    "        cross_val_results = cross_val_score(model, X_train, y_train, cv=kfold, scoring=scoring)\n",
    "        results.append(cross_val_results)\n",
    "        names.append(name)\n",
    "        text = f\"{name} \\t mean score: {cross_val_results.mean()} \\t standard deviation: {cross_val_results.std()}\"\n",
    "        print(text)\n",
    "        \n",
    "# boxplot to compare\n",
    "fig = plt.figure(figsize=(10,10))\n",
    "fig.suptitle('Comparing Models')\n",
    "ax = fig.add_subplot()\n",
    "# green_diamond = dict(markerfacecolor='g', marker='D')\n",
    "# plt.boxplot(results, flierprops=green_diamond, patch_artist=True)\n",
    "plt.boxplot(results, patch_artist=True)\n",
    "plt.ylabel('Accuracy')\n",
    "plt.xlabel('Model')\n",
    "\n",
    "ax.set_xticklabels(names)\n",
    "plt.show()"
   ]
  },
  {
   "cell_type": "markdown",
   "metadata": {},
   "source": [
    "From the above, it appears that the following algorithms work the best:\n",
    "- Random Forest Classifier \n",
    "- Support Vector Classifier \n",
    "- Logistic Regression\n",
    "\n",
    "\n",
    "Now we will now tune the hyperparameters through optimisation."
   ]
  },
  {
   "cell_type": "markdown",
   "metadata": {},
   "source": [
    "**Random Forest Classifier**\n",
    "\n",
    "We will tune these parameters using a grid search:\n",
    "- n_estimators — The number of trees in the forest.\n",
    "- max_depth — The maximum depth of the tree.\n",
    "- criterion — The function to measure the quality of a split."
   ]
  },
  {
   "cell_type": "code",
   "execution_count": 5,
   "metadata": {},
   "outputs": [
    {
     "name": "stdout",
     "output_type": "stream",
     "text": [
      "Accuracy: 0.715\n",
      "Confussion Matrix: \n",
      " [[ 20  39]\n",
      " [ 18 123]] \n",
      "\n"
     ]
    }
   ],
   "source": [
    "# before tuning\n",
    "rf = RandomForestClassifier()\n",
    "rf.fit(X_train, y_train)\n",
    "y_pred = rf.predict(X_test)\n",
    "accuracy = accuracy_score(y_test, y_pred)\n",
    "print(f\"Accuracy:\", accuracy)\n",
    "print(\"Confussion Matrix: \\n\", confusion_matrix(y_test, y_pred),\"\\n\")\n"
   ]
  },
  {
   "cell_type": "code",
   "execution_count": 6,
   "metadata": {},
   "outputs": [],
   "source": [
    "# define search space \n",
    "params = {\n",
    "    \"n_estimators\": [100, 200, 300, 400],\n",
    "    \"max_depth\": (1, 9),\n",
    "    \"criterion\": [\"gini\", \"entropy\"],\n",
    "}\n",
    "kfold = StratifiedKFold(n_splits=3, shuffle=True, random_state=1)"
   ]
  },
  {
   "cell_type": "code",
   "execution_count": 7,
   "metadata": {},
   "outputs": [
    {
     "data": {
      "text/plain": [
       "GridSearchCV(cv=StratifiedKFold(n_splits=3, random_state=1, shuffle=True),\n",
       "             estimator=RandomForestClassifier(), n_jobs=-1,\n",
       "             param_grid={'criterion': ['gini', 'entropy'], 'max_depth': (1, 9),\n",
       "                         'n_estimators': [100, 200, 300, 400]},\n",
       "             refit='accuracy', scoring='accuracy')"
      ]
     },
     "execution_count": 7,
     "metadata": {},
     "output_type": "execute_result"
    }
   ],
   "source": [
    "# Define grid search\n",
    "grid_search = GridSearchCV(estimator=rf, \n",
    "                           param_grid=params, \n",
    "                           scoring='accuracy', \n",
    "                           refit='accuracy', \n",
    "                           n_jobs=-1, \n",
    "                           cv=kfold, \n",
    "                           verbose=0)\n",
    "\n",
    "\n",
    "# Fit grid search\n",
    "grid_result = grid_search.fit(X_train, y_train)\n",
    "# Print grid search summary\n",
    "grid_result"
   ]
  },
  {
   "cell_type": "code",
   "execution_count": 8,
   "metadata": {},
   "outputs": [
    {
     "name": "stdout",
     "output_type": "stream",
     "text": [
      "The best accuracy score for the training dataset is 0.7441\n",
      "The best hyperparameters are {'criterion': 'entropy', 'max_depth': 9, 'n_estimators': 300}\n",
      "The accuracy score for the testing dataset is 0.7000\n"
     ]
    }
   ],
   "source": [
    "# Print the best accuracy score for the training dataset\n",
    "print(f'The best accuracy score for the training dataset is {grid_result.best_score_:.4f}')\n",
    "# Print the hyperparameters for the best score\n",
    "print(f'The best hyperparameters are {grid_result.best_params_}')\n",
    "# Print the best accuracy score for the testing dataset\n",
    "print(f'The accuracy score for the testing dataset is {grid_search.score(X_test, y_test):.4f}')"
   ]
  },
  {
   "cell_type": "code",
   "execution_count": 21,
   "metadata": {},
   "outputs": [
    {
     "name": "stdout",
     "output_type": "stream",
     "text": [
      "Accuracy: 0.72\n",
      "Confusion Matrix: \n",
      " [[ 15  44]\n",
      " [ 12 129]] \n",
      "\n"
     ]
    }
   ],
   "source": [
    "rf = RandomForestClassifier(n_estimators=300, criterion='entropy', max_depth=9,)\n",
    "rf.fit(X_train, y_train)\n",
    "y_pred = rf.predict(X_test)\n",
    "accuracy = accuracy_score(y_test, y_pred)\n",
    "print(f\"Accuracy:\", accuracy)\n",
    "print(\"Confusion Matrix: \\n\", confusion_matrix(y_test, y_pred),\"\\n\")\n",
    "\n"
   ]
  },
  {
   "cell_type": "markdown",
   "metadata": {},
   "source": [
    "\n"
   ]
  },
  {
   "cell_type": "markdown",
   "metadata": {},
   "source": [
    "**C-Support Vector Classification**\n",
    "\n",
    "We will tune these parameters using a grid search:\n",
    "- C — The regularisation parameter\n",
    "- gamma — The kernel coefficient\n",
    "- kernel type — determines the mathematical function used to transform the input data into a higher-dimensional space where a linear decision boundary can be found to separate the classes.\n"
   ]
  },
  {
   "cell_type": "code",
   "execution_count": 10,
   "metadata": {},
   "outputs": [
    {
     "data": {
      "text/plain": [
       "{'C': 1.0,\n",
       " 'break_ties': False,\n",
       " 'cache_size': 200,\n",
       " 'class_weight': None,\n",
       " 'coef0': 0.0,\n",
       " 'decision_function_shape': 'ovr',\n",
       " 'degree': 3,\n",
       " 'gamma': 'scale',\n",
       " 'kernel': 'rbf',\n",
       " 'max_iter': -1,\n",
       " 'probability': False,\n",
       " 'random_state': None,\n",
       " 'shrinking': True,\n",
       " 'tol': 0.001,\n",
       " 'verbose': False}"
      ]
     },
     "execution_count": 10,
     "metadata": {},
     "output_type": "execute_result"
    }
   ],
   "source": [
    "svc = SVC()\n",
    "svc.get_params()"
   ]
  },
  {
   "cell_type": "code",
   "execution_count": 11,
   "metadata": {},
   "outputs": [
    {
     "name": "stdout",
     "output_type": "stream",
     "text": [
      "The accuracy score of the model is 0.7300\n"
     ]
    }
   ],
   "source": [
    "# before tuning\n",
    "\n",
    "# Run model\n",
    "svc.fit(X_train, y_train)\n",
    "# Accuracy score\n",
    "print(f'The accuracy score of the model is {svc.score(X_test, y_test):.4f}')\n"
   ]
  },
  {
   "cell_type": "code",
   "execution_count": 12,
   "metadata": {},
   "outputs": [
    {
     "name": "stdout",
     "output_type": "stream",
     "text": [
      "The list of values for C are [ 0.1  1.  10. ]\n",
      "The list of values for gamma are [ 0.1  1.  10. ]\n"
     ]
    }
   ],
   "source": [
    "# List of C values\n",
    "C_range = np.logspace(-1, 1, 3)\n",
    "print(f'The list of values for C are {C_range}')\n",
    "# List of gamma values\n",
    "gamma_range = np.logspace(-1, 1, 3)\n",
    "print(f'The list of values for gamma are {gamma_range}')\n"
   ]
  },
  {
   "cell_type": "code",
   "execution_count": 13,
   "metadata": {},
   "outputs": [],
   "source": [
    "# Define the search space\n",
    "param_grid = { \n",
    "    \"C\": C_range, # Regularization parameter.\n",
    "    \"kernel\": ['rbf', 'poly'], # Kernel type\n",
    "    \"gamma\": gamma_range.tolist()+['scale', 'auto']  # Gamma is the Kernel coefficient for ‘rbf’, ‘poly’ and ‘sigmoid’.\n",
    "    }\n",
    "\n",
    "# Set up the k-fold cross-validation\n",
    "kfold = StratifiedKFold(n_splits=3, shuffle=True, random_state=1)"
   ]
  },
  {
   "cell_type": "code",
   "execution_count": 14,
   "metadata": {},
   "outputs": [
    {
     "data": {
      "text/plain": [
       "GridSearchCV(cv=StratifiedKFold(n_splits=3, random_state=1, shuffle=True),\n",
       "             estimator=SVC(), n_jobs=-1,\n",
       "             param_grid={'C': array([ 0.1,  1. , 10. ]),\n",
       "                         'gamma': [0.1, 1.0, 10.0, 'scale', 'auto'],\n",
       "                         'kernel': ['rbf', 'poly']},\n",
       "             refit='accuracy', scoring='accuracy')"
      ]
     },
     "execution_count": 14,
     "metadata": {},
     "output_type": "execute_result"
    }
   ],
   "source": [
    "# Define grid search\n",
    "grid_search = GridSearchCV(estimator=svc, \n",
    "                           param_grid=param_grid, \n",
    "                           scoring='accuracy', \n",
    "                           refit='accuracy', \n",
    "                           n_jobs=-1, \n",
    "                           cv=kfold, \n",
    "                           verbose=0)\n",
    "\n",
    "\n",
    "# Fit grid search\n",
    "grid_result = grid_search.fit(X_train, y_train)\n",
    "# Print grid search summary\n",
    "grid_result"
   ]
  },
  {
   "cell_type": "code",
   "execution_count": 15,
   "metadata": {},
   "outputs": [
    {
     "name": "stdout",
     "output_type": "stream",
     "text": [
      "The best accuracy score for the training dataset is 0.7475\n",
      "The best hyperparameters are {'C': 0.1, 'gamma': 'auto', 'kernel': 'poly'}\n",
      "The accuracy score for the testing dataset is 0.7100\n"
     ]
    }
   ],
   "source": [
    "# Print the best accuracy score for the training dataset\n",
    "print(f'The best accuracy score for the training dataset is {grid_result.best_score_:.4f}')\n",
    "# Print the hyperparameters for the best score\n",
    "print(f'The best hyperparameters are {grid_result.best_params_}')\n",
    "# Print the best accuracy score for the testing dataset\n",
    "print(f'The accuracy score for the testing dataset is {grid_search.score(X_test, y_test):.4f}')"
   ]
  },
  {
   "cell_type": "code",
   "execution_count": 22,
   "metadata": {},
   "outputs": [
    {
     "name": "stdout",
     "output_type": "stream",
     "text": [
      "Accuracy: 0.71\n",
      "Confusion Matrix: \n",
      " [[ 18  41]\n",
      " [ 17 124]] \n",
      "\n"
     ]
    }
   ],
   "source": [
    "svc = SVC(C=0.1, gamma='auto', kernel='poly')\n",
    "svc.fit(X_train, y_train)\n",
    "y_pred = svc.predict(X_test)\n",
    "accuracy = accuracy_score(y_test, y_pred)\n",
    "print(f\"Accuracy:\", accuracy)\n",
    "print(\"Confusion Matrix: \\n\", confusion_matrix(y_test, y_pred),\"\\n\")\n",
    "\n"
   ]
  },
  {
   "cell_type": "markdown",
   "metadata": {},
   "source": [
    "## Conclusion"
   ]
  },
  {
   "cell_type": "markdown",
   "metadata": {},
   "source": [
    "**Training final model**\n",
    "\n",
    "We will opt to use the Random Forest algorithm with the tuned hyperparameters. "
   ]
  },
  {
   "cell_type": "code",
   "execution_count": 23,
   "metadata": {},
   "outputs": [
    {
     "name": "stdout",
     "output_type": "stream",
     "text": [
      "Accuracy: 0.9586466165413534\n",
      "Confusion Matrix: \n",
      " [[206  33]\n",
      " [  0 559]] \n",
      "\n"
     ]
    }
   ],
   "source": [
    "model = RandomForestClassifier(n_estimators=300, criterion='entropy', max_depth=9,)\n",
    "    \n",
    "model.fit(X, y)\n",
    "preds = model.predict(X)\n",
    "accuracy = accuracy_score(y, preds)\n",
    "print(f\"Accuracy:\", accuracy)\n",
    "print(\"Confusion Matrix: \\n\", confusion_matrix(y, preds),\"\\n\")\n",
    "\n"
   ]
  },
  {
   "cell_type": "code",
   "execution_count": null,
   "metadata": {},
   "outputs": [],
   "source": []
  }
 ],
 "metadata": {
  "kernelspec": {
   "display_name": "Python 3",
   "language": "python",
   "name": "python3"
  },
  "language_info": {
   "codemirror_mode": {
    "name": "ipython",
    "version": 3
   },
   "file_extension": ".py",
   "mimetype": "text/x-python",
   "name": "python",
   "nbconvert_exporter": "python",
   "pygments_lexer": "ipython3",
   "version": "3.8.5"
  }
 },
 "nbformat": 4,
 "nbformat_minor": 4
}
